{
 "cells": [
  {
   "cell_type": "code",
   "execution_count": 1,
   "metadata": {},
   "outputs": [
    {
     "name": "stdout",
     "output_type": "stream",
     "text": [
      "['STATION', 'NAME', 'DATE', 'PRCP', 'SNOW', 'SNWD', 'TMAX', 'TMIN', 'TOBS']\n"
     ]
    }
   ],
   "source": [
    "import csv\n",
    "\n",
    "filename = 'C:/Users/olwyn/PycharmProjects/pythonProject1/venv/Scripts/data/death_valley_2018_full.csv'\n",
    "with open(filename) as f:\n",
    "    reader = csv.reader(f)\n",
    "    header_row = next(reader)\n",
    "    print(header_row)"
   ]
  },
  {
   "cell_type": "code",
   "execution_count": 2,
   "metadata": {},
   "outputs": [
    {
     "name": "stdout",
     "output_type": "stream",
     "text": [
      "0 STATION\n",
      "1 NAME\n",
      "2 DATE\n",
      "3 PRCP\n",
      "4 SNOW\n",
      "5 SNWD\n",
      "6 TMAX\n",
      "7 TMIN\n",
      "8 TOBS\n"
     ]
    }
   ],
   "source": [
    "for index, column_header in enumerate(header_row):\n",
    "    print(index, column_header)"
   ]
  },
  {
   "cell_type": "code",
   "execution_count": 3,
   "metadata": {},
   "outputs": [
    {
     "name": "stdout",
     "output_type": "stream",
     "text": [
      "[65, 61, 69, 69, 74, 74, 77, 62, 60, 64, 67, 68, 73, 72, 73, 70, 71, 71, 78, 68, 69, 66, 69, 69, 75, 69, 69, 81, 81, 79, 78, 79, 81, 81, 87, 85, 88, 83, 85, 82, 82, 73, 70, 72, 74, 76, 76, 76, 79, 66, 62, 65, 67, 64, 60, 70, 69, 62, 69, 77, 77, 73, 70, 72, 79, 75, 80, 83, 80, 82, 85, 90, 80, 77, 77, 73, 74, 81, 79, 83, 79, 84, 81, 79, 79, 84, 94, 96, 97, 99, 97, 90, 93, 95, 96, 98, 100, 96, 97, 104, 103, 83, 86, 91, 95, 82, 79, 87, 78, 95, 99, 103, 104, 105, 106, 108, 104, 95, 95, 85, 84, 82, 97, 102, 105, 110, 108, 109, 116, 107, 104, 94, 95, 97, 100, 101, 97, 102, 105, 103, 97, 100, 103, 104, 95, 94, 102, 108, 111, 110, 101, 107, 113, 118, 117, 114, 109, 109, 111, 113, 106, 113, 117, 119, 117, 112, 107, 101, 103, 111, 118, 126, 121, 120, 119, 121, 120, 117, 116, 111, 118, 118, 119, 117, 113, 117, 121, 121, 126, 121, 114, 113, 115, 114, 120, 120, 124, 123, 120, 121, 120, 115, 120, 125, 127, 127, 127, 127, 124, 124, 123, 121, 120, 121, 120, 119, 117, 119, 121, 122, 122, 119, 119, 112, 117, 118, 117, 117, 116, 119, 122, 119, 117, 115, 115, 113, 113, 114, 111, 109, 112, 113, 109, 113, 113, 113, 112, 110, 114, 115, 120, 116, 111, 109, 110, 107, 109, 107, 109, 108, 106, 108, 107, 109, 110, 111, 108, 111, 109, 110, 110, 105, 103, 104, 101, 96, 93, 95, 94, 87, 93, 92, 91, 91, 93, 96, 89, 86, 91, 90, 91, 96, 96, 94, 95, 97, 96, 96, 95, 94, 93, 94, 85, 83, 89, 90, 93, 91, 90, 91, 86, 79, 81, 74, 76, 76, 73, 77, 77, 74, 75, 76, 72, 77, 74, 81, 73, 75, 74, 73, 70, 67, 77, 72, 68, 68, 66, 66, 57, 67, 69, 70, 67, 76, 77, 72, 63, 68, 67, 69, 68, 68, 66, 69, 71, 68, 66, 70, 72, 68, 63, 63, 63, 63]\n"
     ]
    }
   ],
   "source": [
    "filename = 'C:/Users/olwyn/PycharmProjects/pythonProject1/venv/Scripts/data/death_valley_2018_full.csv'\n",
    "with open(filename) as f:\n",
    "    reader = csv.reader(f) \n",
    "    header_row = next(reader)\n",
    "\n",
    "\n",
    "    # Get high temperatures from this file.\n",
    "    highs = []\n",
    "    for col in reader: #Changed row to col as it is accessing the columns of the csv\n",
    "        high = int(col[6]) \n",
    "        highs.append(high)\n",
    "\n",
    "    print(highs)\n",
    "    #Try print first 10"
   ]
  },
  {
   "cell_type": "code",
   "execution_count": 7,
   "metadata": {},
   "outputs": [
    {
     "name": "stdout",
     "output_type": "stream",
     "text": [
      "65\n",
      "61\n",
      "69\n",
      "69\n",
      "74\n",
      "74\n",
      "77\n",
      "62\n",
      "60\n",
      "64\n"
     ]
    }
   ],
   "source": [
    "filename = 'C:/Users/olwyn/PycharmProjects/pythonProject1/venv/Scripts/data/death_valley_2018_full.csv'\n",
    "with open(filename) as f:\n",
    "    reader = csv.reader(f) \n",
    "    header_row = next(reader)\n",
    "\n",
    "\n",
    "    # Get high temperatures from this file.\n",
    "    highs = []\n",
    "    for col in reader: #Changed row to col as it is accessing the columns of the csv\n",
    "        high = int(col[6]) \n",
    "        highs.append(high)\n",
    "\n",
    "    #Try print first 10\n",
    "    len = 10        \n",
    "    for i in range(len):\n",
    "        print(highs[i])\n",
    "   "
   ]
  }
 ],
 "metadata": {
  "kernelspec": {
   "display_name": "Python 3.9.1 ('venv': venv)",
   "language": "python",
   "name": "python3"
  },
  "language_info": {
   "codemirror_mode": {
    "name": "ipython",
    "version": 3
   },
   "file_extension": ".py",
   "mimetype": "text/x-python",
   "name": "python",
   "nbconvert_exporter": "python",
   "pygments_lexer": "ipython3",
   "version": "3.9.1"
  },
  "orig_nbformat": 4,
  "vscode": {
   "interpreter": {
    "hash": "89a793fa4674c5c5d3dd5b8138b66e87b16c81663fe426a04c23f1659d624e43"
   }
  }
 },
 "nbformat": 4,
 "nbformat_minor": 2
}
