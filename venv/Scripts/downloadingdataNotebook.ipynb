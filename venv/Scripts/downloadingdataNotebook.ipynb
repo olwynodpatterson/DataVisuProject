{
 "cells": [
  {
   "cell_type": "code",
   "execution_count": 1,
   "metadata": {},
   "outputs": [
    {
     "name": "stdout",
     "output_type": "stream",
     "text": [
      "['STATION', 'NAME', 'DATE', 'PRCP', 'SNOW', 'SNWD', 'TMAX', 'TMIN', 'TOBS']\n"
     ]
    }
   ],
   "source": [
    "import csv\n",
    "\n",
    "filename = 'C:/Users/olwyn/PycharmProjects/pythonProject1/venv/Scripts/data/death_valley_2018_full.csv'\n",
    "with open(filename) as f:\n",
    "    reader = csv.reader(f)\n",
    "    header_row = next(reader)\n",
    "    print(header_row)"
   ]
  },
  {
   "cell_type": "code",
   "execution_count": 2,
   "metadata": {},
   "outputs": [
    {
     "name": "stdout",
     "output_type": "stream",
     "text": [
      "0 STATION\n",
      "1 NAME\n",
      "2 DATE\n",
      "3 PRCP\n",
      "4 SNOW\n",
      "5 SNWD\n",
      "6 TMAX\n",
      "7 TMIN\n",
      "8 TOBS\n"
     ]
    }
   ],
   "source": [
    "for index, column_header in enumerate(header_row):\n",
    "    print(index, column_header)"
   ]
  }
 ],
 "metadata": {
  "kernelspec": {
   "display_name": "Python 3.9.1 ('venv': venv)",
   "language": "python",
   "name": "python3"
  },
  "language_info": {
   "codemirror_mode": {
    "name": "ipython",
    "version": 3
   },
   "file_extension": ".py",
   "mimetype": "text/x-python",
   "name": "python",
   "nbconvert_exporter": "python",
   "pygments_lexer": "ipython3",
   "version": "3.9.1"
  },
  "orig_nbformat": 4,
  "vscode": {
   "interpreter": {
    "hash": "89a793fa4674c5c5d3dd5b8138b66e87b16c81663fe426a04c23f1659d624e43"
   }
  }
 },
 "nbformat": 4,
 "nbformat_minor": 2
}
